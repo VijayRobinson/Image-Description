{
 "cells": [
  {
   "cell_type": "code",
   "execution_count": 12,
   "metadata": {
    "colab": {
     "base_uri": "https://localhost:8080/"
    },
    "id": "ciykLBgT--Y4",
    "outputId": "6aab10b5-532d-4168-8217-f1fd8d59ecd8"
   },
   "outputs": [],
   "source": [
    "%%capture\n",
    "import mrcnn\n",
    "import mrcnn.config\n",
    "import mrcnn.model\n",
    "import mrcnn.visualize\n",
    "import cv2\n",
    "import os\n",
    "import matplotlib.pyplot as plt\n",
    "import numpy as np"
   ]
  },
  {
   "cell_type": "code",
   "execution_count": 13,
   "metadata": {
    "id": "kzC3_yicyAWX"
   },
   "outputs": [],
   "source": [
    "%%capture\n",
    "CLASS_NAMES = ['BG', 'person', 'bicycle', 'car', 'motorcycle', 'airplane', 'bus', 'train', 'truck', 'boat', 'traffic light', 'fire hydrant', 'stop sign', 'parking meter', 'bench', 'bird', 'cat', 'dog', 'horse', 'sheep', 'cow', 'elephant', 'bear', 'zebra', 'giraffe', 'backpack', 'umbrella', 'handbag', 'tie', 'suitcase', 'frisbee', 'skis', 'snowboard', 'sports ball', 'kite', 'baseball bat', 'baseball glove', 'skateboard', 'surfboard', 'tennis racket', 'bottle', 'wine glass', 'cup', 'fork', 'knife', 'spoon', 'bowl', 'banana', 'apple', 'sandwich', 'orange', 'broccoli', 'carrot', 'hot dog', 'pizza', 'donut', 'cake', 'chair', 'couch', 'potted plant', 'bed', 'dining table', 'toilet', 'tv', 'laptop', 'mouse', 'remote', 'keyboard', 'cell phone', 'microwave', 'oven', 'toaster', 'sink', 'refrigerator', 'book', 'clock', 'vase', 'scissors', 'teddy bear', 'hair drier', 'toothbrush']\n",
    "\n",
    "class SimpleConfig(mrcnn.config.Config):\n",
    "    NAME = \"coco_inference\"\n",
    "    \n",
    "    GPU_COUNT = 1\n",
    "    IMAGES_PER_GPU = 1\n",
    "\n",
    "    NUM_CLASSES = len(CLASS_NAMES)\n",
    "\n",
    "model = mrcnn.model.MaskRCNN(mode=\"inference\", \n",
    "                             config=SimpleConfig(),\n",
    "                             model_dir=os.getcwd())\n",
    "\n",
    "model.load_weights(\"dataset/mask_rcnn_coco.h5\", by_name=True)"
   ]
  },
  {
   "cell_type": "code",
   "execution_count": 43,
   "metadata": {
    "colab": {
     "base_uri": "https://localhost:8080/",
     "height": 704
    },
    "id": "WZKrmTnRNzoM",
    "outputId": "3b736d5a-b166-4f90-f3b3-0b0111d75e41"
   },
   "outputs": [],
   "source": [
    "def process(im_path,file_name):\n",
    "    image = cv2.imread(im_path)\n",
    "    image = cv2.cvtColor(image, cv2.COLOR_BGR2RGB)\n",
    "    r = model.detect([image], verbose=0)[0]\n",
    "    im = cv2.imread(im_path)\n",
    "    im = cv2.cvtColor(im, cv2.COLOR_BGR2RGB)\n",
    "    for each in r['rois']:\n",
    "      im = cv2.rectangle(im,(each[1],each[0]),(each[3],each[2]),(0,0,0),-1)\n",
    "    cv2.imwrite(\"pdataset/background/\"+file_name,im)\n",
    "\n",
    "    im = cv2.imread(im_path)\n",
    "    im = cv2.cvtColor(im, cv2.COLOR_BGR2RGB)\n",
    "    mask = np.zeros(im.shape[:2], dtype=\"uint8\")\n",
    "    for each in r['rois']:\n",
    "      cv2.rectangle(mask,(each[1],each[0]),(each[3],each[2]),255,-1)\n",
    "    masked = cv2.bitwise_and(im, im, mask=mask)\n",
    "    masked = cv2.cvtColor(masked,cv2.COLOR_RGB2BGR)\n",
    "    cv2.imwrite(\"pdataset/objects/\"+file_name,masked)"
   ]
  },
  {
   "cell_type": "code",
   "execution_count": 44,
   "metadata": {},
   "outputs": [],
   "source": [
    "for each in os.listdir('mdataset/images'):\n",
    "    process('mdataset/images/'+each,each)"
   ]
  }
 ],
 "metadata": {
  "colab": {
   "name": "Copy of MASK-RCNN.ipynb",
   "provenance": []
  },
  "kernelspec": {
   "display_name": "Python 3 (ipykernel)",
   "language": "python",
   "name": "python3"
  },
  "language_info": {
   "codemirror_mode": {
    "name": "ipython",
    "version": 3
   },
   "file_extension": ".py",
   "mimetype": "text/x-python",
   "name": "python",
   "nbconvert_exporter": "python",
   "pygments_lexer": "ipython3",
   "version": "3.7.13"
  }
 },
 "nbformat": 4,
 "nbformat_minor": 1
}
