{
 "cells": [
  {
   "cell_type": "code",
   "execution_count": 1,
   "metadata": {
    "colab": {
     "base_uri": "https://localhost:8080/"
    },
    "id": "ciykLBgT--Y4",
    "outputId": "6aab10b5-532d-4168-8217-f1fd8d59ecd8"
   },
   "outputs": [],
   "source": [
    "%%capture\n",
    "import mrcnn\n",
    "import mrcnn.config\n",
    "import mrcnn.model\n",
    "import mrcnn.visualize\n",
    "import cv2\n",
    "import os\n",
    "import matplotlib.pyplot as plt\n",
    "import numpy as np"
   ]
  },
  {
   "cell_type": "code",
   "execution_count": 2,
   "metadata": {
    "id": "kzC3_yicyAWX"
   },
   "outputs": [
    {
     "name": "stderr",
     "output_type": "stream",
     "text": [
      "2022-04-28 14:28:07.038358: I tensorflow/stream_executor/platform/default/dso_loader.cc:44] Successfully opened dynamic library libcuda.so.1\n",
      "2022-04-28 14:28:12.478234: E tensorflow/stream_executor/cuda/cuda_driver.cc:318] failed call to cuInit: CUDA_ERROR_NO_DEVICE: no CUDA-capable device is detected\n",
      "2022-04-28 14:28:12.478314: I tensorflow/stream_executor/cuda/cuda_diagnostics.cc:156] kernel driver does not appear to be running on this host (kabilan-pt4987): /proc/driver/nvidia/version does not exist\n",
      "2022-04-28 14:28:12.480073: I tensorflow/core/platform/cpu_feature_guard.cc:142] Your CPU supports instructions that this TensorFlow binary was not compiled to use: AVX2 FMA\n",
      "2022-04-28 14:28:12.541032: I tensorflow/core/platform/profile_utils/cpu_utils.cc:94] CPU Frequency: 2599990000 Hz\n",
      "2022-04-28 14:28:12.542740: I tensorflow/compiler/xla/service/service.cc:168] XLA service 0x55a40ab258d0 initialized for platform Host (this does not guarantee that XLA will be used). Devices:\n",
      "2022-04-28 14:28:12.542761: I tensorflow/compiler/xla/service/service.cc:176]   StreamExecutor device (0): Host, Default Version\n",
      "2022-04-28 14:28:13.802630: W tensorflow/core/framework/cpu_allocator_impl.cc:81] Allocation of 51380224 exceeds 10% of system memory.\n",
      "2022-04-28 14:28:13.978118: W tensorflow/core/framework/cpu_allocator_impl.cc:81] Allocation of 51380224 exceeds 10% of system memory.\n"
     ]
    }
   ],
   "source": [
    "%%capture\n",
    "CLASS_NAMES = ['BG', 'person', 'bicycle', 'car', 'motorcycle', 'airplane', 'bus', 'train', 'truck', 'boat', 'traffic light', 'fire hydrant', 'stop sign', 'parking meter', 'bench', 'bird', 'cat', 'dog', 'horse', 'sheep', 'cow', 'elephant', 'bear', 'zebra', 'giraffe', 'backpack', 'umbrella', 'handbag', 'tie', 'suitcase', 'frisbee', 'skis', 'snowboard', 'sports ball', 'kite', 'baseball bat', 'baseball glove', 'skateboard', 'surfboard', 'tennis racket', 'bottle', 'wine glass', 'cup', 'fork', 'knife', 'spoon', 'bowl', 'banana', 'apple', 'sandwich', 'orange', 'broccoli', 'carrot', 'hot dog', 'pizza', 'donut', 'cake', 'chair', 'couch', 'potted plant', 'bed', 'dining table', 'toilet', 'tv', 'laptop', 'mouse', 'remote', 'keyboard', 'cell phone', 'microwave', 'oven', 'toaster', 'sink', 'refrigerator', 'book', 'clock', 'vase', 'scissors', 'teddy bear', 'hair drier', 'toothbrush']\n",
    "\n",
    "class SimpleConfig(mrcnn.config.Config):\n",
    "    NAME = \"coco_inference\"\n",
    "    \n",
    "    GPU_COUNT = 1\n",
    "    IMAGES_PER_GPU = 1\n",
    "\n",
    "    NUM_CLASSES = len(CLASS_NAMES)\n",
    "\n",
    "model = mrcnn.model.MaskRCNN(mode=\"inference\", \n",
    "                             config=SimpleConfig(),\n",
    "                             model_dir=os.getcwd())\n",
    "\n",
    "model.load_weights(\"dataset/mask_rcnn_coco.h5\", by_name=True)"
   ]
  },
  {
   "cell_type": "code",
   "execution_count": 3,
   "metadata": {
    "colab": {
     "base_uri": "https://localhost:8080/",
     "height": 704
    },
    "id": "WZKrmTnRNzoM",
    "outputId": "3b736d5a-b166-4f90-f3b3-0b0111d75e41"
   },
   "outputs": [],
   "source": [
    "def process(im_path,file_name):\n",
    "    image = cv2.imread(im_path)\n",
    "    image = cv2.cvtColor(image, cv2.COLOR_BGR2RGB)\n",
    "    r = model.detect([image], verbose=0)[0]\n",
    "    im = cv2.imread(im_path)\n",
    "    im = cv2.cvtColor(im, cv2.COLOR_BGR2RGB)\n",
    "    for each in r['rois']:\n",
    "      im = cv2.rectangle(im,(each[1],each[0]),(each[3],each[2]),(0,0,0),-1)\n",
    "    im = cv2.cvtColor(im,cv2.COLOR_RGB2BGR)\n",
    "    cv2.imwrite(\"pdataset/background/\"+file_name,im)\n",
    "\n",
    "#     im = cv2.imread(im_path)\n",
    "#     im = cv2.cvtColor(im, cv2.COLOR_BGR2RGB)\n",
    "#     mask = np.zeros(im.shape[:2], dtype=\"uint8\")\n",
    "#     for each in r['rois']:\n",
    "#       cv2.rectangle(mask,(each[1],each[0]),(each[3],each[2]),255,-1)\n",
    "#     masked = cv2.bitwise_and(im, im, mask=mask)\n",
    "#     masked = cv2.cvtColor(masked,cv2.COLOR_RGB2BGR)\n",
    "#     cv2.imwrite(\"pdataset/objects/\"+file_name,masked)"
   ]
  },
  {
   "cell_type": "code",
   "execution_count": 4,
   "metadata": {},
   "outputs": [
    {
     "name": "stderr",
     "output_type": "stream",
     "text": [
      "2022-04-28 14:29:18.973062: W tensorflow/core/framework/cpu_allocator_impl.cc:81] Allocation of 67108864 exceeds 10% of system memory.\n",
      "2022-04-28 14:29:19.043326: W tensorflow/core/framework/cpu_allocator_impl.cc:81] Allocation of 67108864 exceeds 10% of system memory.\n",
      "2022-04-28 14:29:19.081366: W tensorflow/core/framework/cpu_allocator_impl.cc:81] Allocation of 67108864 exceeds 10% of system memory.\n"
     ]
    }
   ],
   "source": [
    "for each in os.listdir('mdataset/images'):\n",
    "    process('mdataset/images/'+each,each)"
   ]
  }
 ],
 "metadata": {
  "colab": {
   "name": "Copy of MASK-RCNN.ipynb",
   "provenance": []
  },
  "kernelspec": {
   "display_name": "Python 3 (ipykernel)",
   "language": "python",
   "name": "python3"
  },
  "language_info": {
   "codemirror_mode": {
    "name": "ipython",
    "version": 3
   },
   "file_extension": ".py",
   "mimetype": "text/x-python",
   "name": "python",
   "nbconvert_exporter": "python",
   "pygments_lexer": "ipython3",
   "version": "3.7.13"
  }
 },
 "nbformat": 4,
 "nbformat_minor": 1
}
