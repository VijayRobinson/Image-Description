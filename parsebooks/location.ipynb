{
 "cells": [
  {
   "cell_type": "code",
   "execution_count": 60,
   "id": "401dbfbb",
   "metadata": {},
   "outputs": [],
   "source": [
    "%%capture\n",
    "import mrcnn\n",
    "import mrcnn.config\n",
    "import mrcnn.model\n",
    "import mrcnn.visualize\n",
    "import cv2\n",
    "import os\n",
    "import matplotlib.pyplot as plt\n",
    "import numpy as np"
   ]
  },
  {
   "cell_type": "code",
   "execution_count": 3,
   "id": "bf6ac488",
   "metadata": {},
   "outputs": [],
   "source": [
    "%%capture captured\n",
    "CLASS_NAMES = ['BG', 'person', 'bicycle', 'car', 'motorcycle', 'airplane', 'bus', 'train', 'truck', 'boat', 'traffic light', 'fire hydrant', 'stop sign', 'parking meter', 'bench', 'bird', 'cat', 'dog', 'horse', 'sheep', 'cow', 'elephant', 'bear', 'zebra', 'giraffe', 'backpack', 'umbrella', 'handbag', 'tie', 'suitcase', 'frisbee', 'skis', 'snowboard', 'sports ball', 'kite', 'baseball bat', 'baseball glove', 'skateboard', 'surfboard', 'tennis racket', 'bottle', 'wine glass', 'cup', 'fork', 'knife', 'spoon', 'bowl', 'banana', 'apple', 'sandwich', 'orange', 'broccoli', 'carrot', 'hot dog', 'pizza', 'donut', 'cake', 'chair', 'couch', 'potted plant', 'bed', 'dining table', 'toilet', 'tv', 'laptop', 'mouse', 'remote', 'keyboard', 'cell phone', 'microwave', 'oven', 'toaster', 'sink', 'refrigerator', 'book', 'clock', 'vase', 'scissors', 'teddy bear', 'hair drier', 'toothbrush']\n",
    "\n",
    "class SimpleConfig(mrcnn.config.Config):\n",
    "    NAME = \"coco_inference\"\n",
    "    \n",
    "    GPU_COUNT = 1\n",
    "    IMAGES_PER_GPU = 1\n",
    "\n",
    "    NUM_CLASSES = len(CLASS_NAMES)\n",
    "\n",
    "model = mrcnn.model.MaskRCNN(mode=\"inference\", \n",
    "                             config=SimpleConfig(),\n",
    "                             model_dir=os.getcwd())\n",
    "\n",
    "model.load_weights(\"/home/kabilan/Desktop/caption/dataset/mask_rcnn_coco.h5\", by_name=True)"
   ]
  },
  {
   "cell_type": "code",
   "execution_count": 103,
   "id": "bea28974",
   "metadata": {},
   "outputs": [],
   "source": [
    "class Node:\n",
    "    def __init__(self,start,end,class_id,class_name):\n",
    "        self.start = start\n",
    "        self.end = end\n",
    "        self.class_id = class_id\n",
    "        self.class_name = class_name\n",
    "        \n",
    "    def get_area(self):\n",
    "        height = self.end[1] - self.start[1]\n",
    "        width = self.end[0] - self.start[0]\n",
    "        return width * height"
   ]
  },
  {
   "cell_type": "code",
   "execution_count": 104,
   "id": "876973f9",
   "metadata": {},
   "outputs": [],
   "source": [
    "def get_objects_and_locations(image_path):\n",
    "    image = cv2.imread(image_path,1)\n",
    "    image = cv2.cvtColor(image, cv2.COLOR_BGR2RGB)\n",
    "    rois = model.detect([image], verbose=0)[0]\n",
    "    return rois"
   ]
  },
  {
   "cell_type": "code",
   "execution_count": 105,
   "id": "1d644e4f",
   "metadata": {},
   "outputs": [],
   "source": [
    "img_path = \"/home/kabilan/Desktop/caption/dataset/images/10815824_2997e03d76.jpg\"\n",
    "img_path = \"/home/kabilan/Desktop/caption/steps/step_6.jpeg\"\n",
    "image = cv2.imread(img_path,1)\n",
    "image = cv2.cvtColor(image, cv2.COLOR_BGR2RGB)\n",
    "res = get_objects_and_locations(img_path)"
   ]
  },
  {
   "cell_type": "code",
   "execution_count": 106,
   "id": "54df6609",
   "metadata": {},
   "outputs": [],
   "source": [
    "im_width,im_height = image.shape[1],image.shape[0]"
   ]
  },
  {
   "cell_type": "code",
   "execution_count": 107,
   "id": "0ae27fed",
   "metadata": {},
   "outputs": [],
   "source": [
    "cur_pos = (im_height,int(im_width/2))"
   ]
  },
  {
   "cell_type": "code",
   "execution_count": 108,
   "id": "0237fdcb",
   "metadata": {},
   "outputs": [],
   "source": [
    "def get_angle(node_a,node_b):\n",
    "    x1,y1 = node_a.end\n",
    "    x2,y2 = node_b.end\n",
    "    tan = (y2-y1)/(x2-x1)\n",
    "    return tan\n",
    "\n",
    "def distance(node_a,node_b):\n",
    "    return np.linalg.norm(np.array(node_a.end) - np.array(node_b.end))"
   ]
  },
  {
   "cell_type": "code",
   "execution_count": 109,
   "id": "39040551",
   "metadata": {},
   "outputs": [],
   "source": [
    "objects = []"
   ]
  },
  {
   "cell_type": "code",
   "execution_count": 110,
   "id": "61ab0ba1",
   "metadata": {},
   "outputs": [],
   "source": [
    "for i in range(len(res['rois'])):\n",
    "    class_name = CLASS_NAMES[res['class_ids'][i]]\n",
    "    class_id = res['class_ids'][i]\n",
    "    points = res['rois'][i]\n",
    "    start = (points[1],points[0])\n",
    "    end = (points[3],points[2])\n",
    "    score = res['scores'][i]\n",
    "    \n",
    "    ob = Node(start,end,class_id,class_name)\n",
    "    if score > 0.8:\n",
    "        objects.append(ob)"
   ]
  },
  {
   "cell_type": "code",
   "execution_count": 111,
   "id": "387cc83d",
   "metadata": {},
   "outputs": [],
   "source": [
    "pos_node = Node(cur_pos,cur_pos,-1,\"current_position\")"
   ]
  },
  {
   "cell_type": "code",
   "execution_count": 112,
   "id": "712e91ee",
   "metadata": {},
   "outputs": [],
   "source": [
    "target_node = None\n",
    "target_class_id = CLASS_NAMES.index('bottle') "
   ]
  },
  {
   "cell_type": "code",
   "execution_count": 113,
   "id": "d9551327",
   "metadata": {},
   "outputs": [],
   "source": [
    "def parse_direction(pos_node,old_target_node,target_node):\n",
    "    dir_str = \"\"\n",
    "    angle = get_angle(pos_node,target_node)\n",
    "    movement = \"\"\n",
    "    if angle < -1.0:\n",
    "        movement = \"left\"\n",
    "    elif angle > 1.0:\n",
    "        movement = \"right\"\n",
    "    else:\n",
    "        movement = \"front\"\n",
    "    dis_str = \"\"\n",
    "    if old_target_node is not None:\n",
    "        if old_target_node.get_area() < target_node.get_area():\n",
    "            dis_str = \"closer\"\n",
    "        else:\n",
    "            dis_str = \"away\"\n",
    "    return movement , dis_str"
   ]
  },
  {
   "cell_type": "code",
   "execution_count": 118,
   "id": "70f8f770",
   "metadata": {},
   "outputs": [
    {
     "name": "stdout",
     "output_type": "stream",
     "text": [
      "('left', 'closer')\n",
      "('left', 'away')\n"
     ]
    },
    {
     "name": "stderr",
     "output_type": "stream",
     "text": [
      "/home/kabilan/Desktop/caption/venv/lib/python3.7/site-packages/ipykernel_launcher.py:4: RuntimeWarning: divide by zero encountered in long_scalars\n",
      "  after removing the cwd from sys.path.\n"
     ]
    }
   ],
   "source": [
    "for each in objects:\n",
    "    if each.class_id == target_class_id:\n",
    "        print(parse_direction(pos_node,target_node,each))\n",
    "        target_node = each\n",
    "        "
   ]
  },
  {
   "cell_type": "code",
   "execution_count": null,
   "id": "fe6e7034",
   "metadata": {},
   "outputs": [],
   "source": []
  },
  {
   "cell_type": "code",
   "execution_count": null,
   "id": "f8c321e5",
   "metadata": {},
   "outputs": [],
   "source": []
  }
 ],
 "metadata": {
  "kernelspec": {
   "display_name": "Python 3 (ipykernel)",
   "language": "python",
   "name": "python3"
  },
  "language_info": {
   "codemirror_mode": {
    "name": "ipython",
    "version": 3
   },
   "file_extension": ".py",
   "mimetype": "text/x-python",
   "name": "python",
   "nbconvert_exporter": "python",
   "pygments_lexer": "ipython3",
   "version": "3.7.13"
  }
 },
 "nbformat": 4,
 "nbformat_minor": 5
}
