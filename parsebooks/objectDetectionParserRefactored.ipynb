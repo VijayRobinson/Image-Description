{
 "cells": [
  {
   "cell_type": "code",
   "execution_count": 77,
   "id": "2f9c4043",
   "metadata": {},
   "outputs": [],
   "source": [
    "%%capture\n",
    "import mrcnn\n",
    "import mrcnn.config\n",
    "import mrcnn.model\n",
    "import mrcnn.visualize\n",
    "import cv2\n",
    "import os\n",
    "import matplotlib.pyplot as plt\n",
    "import numpy as np"
   ]
  },
  {
   "cell_type": "code",
   "execution_count": 78,
   "id": "706b9776",
   "metadata": {},
   "outputs": [],
   "source": [
    "%%capture\n",
    "CLASS_NAMES = ['BG', 'person', 'bicycle', 'car', 'motorcycle', 'airplane', 'bus', 'train', 'truck', 'boat', 'traffic light', 'fire hydrant', 'stop sign', 'parking meter', 'bench', 'bird', 'cat', 'dog', 'horse', 'sheep', 'cow', 'elephant', 'bear', 'zebra', 'giraffe', 'backpack', 'umbrella', 'handbag', 'tie', 'suitcase', 'frisbee', 'skis', 'snowboard', 'sports ball', 'kite', 'baseball bat', 'baseball glove', 'skateboard', 'surfboard', 'tennis racket', 'bottle', 'wine glass', 'cup', 'fork', 'knife', 'spoon', 'bowl', 'banana', 'apple', 'sandwich', 'orange', 'broccoli', 'carrot', 'hot dog', 'pizza', 'donut', 'cake', 'chair', 'couch', 'potted plant', 'bed', 'dining table', 'toilet', 'tv', 'laptop', 'mouse', 'remote', 'keyboard', 'cell phone', 'microwave', 'oven', 'toaster', 'sink', 'refrigerator', 'book', 'clock', 'vase', 'scissors', 'teddy bear', 'hair drier', 'toothbrush']\n",
    "\n",
    "class SimpleConfig(mrcnn.config.Config):\n",
    "    NAME = \"coco_inference\"\n",
    "    \n",
    "    GPU_COUNT = 1\n",
    "    IMAGES_PER_GPU = 1\n",
    "\n",
    "    NUM_CLASSES = len(CLASS_NAMES)\n",
    "\n",
    "model = mrcnn.model.MaskRCNN(mode=\"inference\", \n",
    "                             config=SimpleConfig(),\n",
    "                             model_dir=os.getcwd())\n",
    "\n",
    "model.load_weights(\"/home/kabilan/Desktop/caption/dataset/mask_rcnn_coco.h5\", by_name=True)"
   ]
  },
  {
   "cell_type": "code",
   "execution_count": 79,
   "id": "99abc242",
   "metadata": {},
   "outputs": [],
   "source": [
    "def get_objects_and_locations(image_path):\n",
    "    image = cv2.imread(image_path,1)\n",
    "    image = cv2.cvtColor(image, cv2.COLOR_BGR2RGB)\n",
    "    rois = model.detect([image], verbose=0)[0]\n",
    "    return rois"
   ]
  },
  {
   "cell_type": "code",
   "execution_count": 80,
   "id": "5c6a3693",
   "metadata": {},
   "outputs": [],
   "source": [
    "img_path = \"/home/kabilan/Desktop/caption/dataset/images/10815824_2997e03d76.jpg\""
   ]
  },
  {
   "cell_type": "code",
   "execution_count": 83,
   "id": "b54c83d9",
   "metadata": {},
   "outputs": [],
   "source": [
    "class Node:\n",
    "    def __init__(self,start,end,class_id,class_name):\n",
    "        self.start = start\n",
    "        self.end = end\n",
    "        self.class_id = class_id\n",
    "        self.class_name = class_name"
   ]
  },
  {
   "cell_type": "code",
   "execution_count": 81,
   "id": "929aabde",
   "metadata": {},
   "outputs": [],
   "source": [
    "image = cv2.imread(img_path,1)\n",
    "image = cv2.cvtColor(image, cv2.COLOR_BGR2RGB)"
   ]
  },
  {
   "cell_type": "code",
   "execution_count": 84,
   "id": "59da4d5f",
   "metadata": {},
   "outputs": [],
   "source": [
    "objects = []"
   ]
  },
  {
   "cell_type": "code",
   "execution_count": 85,
   "id": "3570817d",
   "metadata": {},
   "outputs": [],
   "source": [
    "for i in range(len(res['rois'])):\n",
    "    class_name = CLASS_NAMES[res['class_ids'][i]]\n",
    "    class_id = res['class_ids'][i]\n",
    "    points = res['rois'][i]\n",
    "    start = (points[1],points[0])\n",
    "    end = (points[3],points[2])\n",
    "    score = res['scores'][i]\n",
    "    \n",
    "    ob = Node(start,end,class_id,class_name)\n",
    "    if score > 0.8:\n",
    "        objects.append(ob)"
   ]
  },
  {
   "cell_type": "code",
   "execution_count": 89,
   "id": "10f3e43a",
   "metadata": {},
   "outputs": [
    {
     "name": "stdout",
     "output_type": "stream",
     "text": [
      "{'start': (12, 44), 'end': (260, 309), 'class_id': 18, 'class_name': 'horse', 'reference_name': 'horse 1'}\n",
      "{'start': (235, 53), 'end': (319, 317), 'class_id': 1, 'class_name': 'person', 'reference_name': 'person 1'}\n",
      "{'start': (377, 51), 'end': (416, 156), 'class_id': 1, 'class_name': 'person', 'reference_name': 'person 2'}\n",
      "{'start': (409, 68), 'end': (500, 153), 'class_id': 18, 'class_name': 'horse', 'reference_name': 'horse 2'}\n",
      "{'start': (399, 70), 'end': (405, 90), 'class_id': 28, 'class_name': 'tie', 'reference_name': 'tie 1'}\n"
     ]
    }
   ],
   "source": [
    "for each in objects:\n",
    "    print(each.__dict__)"
   ]
  },
  {
   "cell_type": "code",
   "execution_count": 90,
   "id": "9d9f873c",
   "metadata": {},
   "outputs": [
    {
     "data": {
      "text/plain": [
       "-0.03571428571428571"
      ]
     },
     "execution_count": 90,
     "metadata": {},
     "output_type": "execute_result"
    }
   ],
   "source": [
    "get_angle(objects[3],objects[2])"
   ]
  },
  {
   "cell_type": "code",
   "execution_count": 91,
   "id": "4966280a",
   "metadata": {},
   "outputs": [],
   "source": [
    "def get_angle(node_a,node_b):\n",
    "    x1,y1 = node_a.end\n",
    "    x2,y2 = node_b.end\n",
    "    tan = (y2-y1)/(x2-x1)\n",
    "    return tan"
   ]
  },
  {
   "cell_type": "code",
   "execution_count": 92,
   "id": "4399b111",
   "metadata": {},
   "outputs": [],
   "source": [
    "def distance(node_a,node_b):\n",
    "    return np.linalg.norm(np.array(node_a.end) - np.array(node_b.end))"
   ]
  },
  {
   "cell_type": "code",
   "execution_count": 104,
   "id": "86cf6346",
   "metadata": {},
   "outputs": [],
   "source": [
    "behind_threshold = -0.2\n",
    "front_threshold = 0.2"
   ]
  },
  {
   "cell_type": "code",
   "execution_count": 105,
   "id": "5fedec29",
   "metadata": {},
   "outputs": [],
   "source": [
    "BEHIND_WORD = \"behind\"\n",
    "FRONT_WORD = \"front of\"\n",
    "NEAR_WORD = \"near\""
   ]
  },
  {
   "cell_type": "code",
   "execution_count": 106,
   "id": "aab58983",
   "metadata": {},
   "outputs": [],
   "source": [
    "def prepare_sentence(node_a,node_b,join_word):\n",
    "    return f\"{node_a.reference_name} is {join_word} {node_b.reference_name}\""
   ]
  },
  {
   "cell_type": "code",
   "execution_count": 109,
   "id": "63dffafb",
   "metadata": {},
   "outputs": [],
   "source": [
    "def get_position_word(node_a,node_b):\n",
    "    angle = get_angle(node_a,node_b)\n",
    "    if angle < behind_threshold:\n",
    "        return prepare_sentence(node_b,node_a,BEHIND_WORD)\n",
    "    elif angle > front_threshold:\n",
    "        return prepare_sentence(node_b,node_a,FRONT_WORD)\n",
    "    return prepare_sentence(node_b,node_a,NEAR_WORD)"
   ]
  },
  {
   "cell_type": "code",
   "execution_count": 112,
   "id": "fa135182",
   "metadata": {},
   "outputs": [],
   "source": [
    "def process_sentence_objects(objects):\n",
    "    i=0\n",
    "    while i< len(objects)-1:\n",
    "        node_a = objects[i]\n",
    "        node_b = objects[i+1]\n",
    "        print(get_position_word(node_a,node_b))\n",
    "        i+=1"
   ]
  },
  {
   "cell_type": "code",
   "execution_count": 116,
   "id": "953f1211",
   "metadata": {},
   "outputs": [],
   "source": [
    "def add_node_reference_name(objects):\n",
    "    objects_count_dict = {}\n",
    "    for each in objects:\n",
    "        if each.class_id in objects_count_dict:\n",
    "            objects_count_dict[each.class_id] +=1\n",
    "        else:\n",
    "            objects_count_dict[each.class_id] =1\n",
    "        each.reference_name = each.class_name + \" \" + str(objects_count_dict[each.class_id])"
   ]
  },
  {
   "cell_type": "code",
   "execution_count": 117,
   "id": "0c4c54b2",
   "metadata": {},
   "outputs": [],
   "source": [
    "def create_nodes(res):\n",
    "    objects = []\n",
    "    for i in range(len(res['rois'])):\n",
    "        class_name = CLASS_NAMES[res['class_ids'][i]]\n",
    "        class_id = res['class_ids'][i]\n",
    "        points = res['rois'][i]\n",
    "        start = (points[1],points[0])\n",
    "        end = (points[3],points[2])\n",
    "        score = res['scores'][i]\n",
    "        ob = Node(start,end,class_id,class_name)\n",
    "        if score > 0.8:\n",
    "            objects.append(ob)\n",
    "    add_node_reference_name(objects)\n",
    "    return objects"
   ]
  },
  {
   "cell_type": "code",
   "execution_count": 111,
   "id": "a5b638a5",
   "metadata": {},
   "outputs": [
    {
     "name": "stdout",
     "output_type": "stream",
     "text": [
      "person 1 is near horse 1\n",
      "person 2 is behind person 1\n",
      "horse 2 is near person 2\n",
      "tie 1 is front of horse 2\n"
     ]
    }
   ],
   "source": []
  },
  {
   "cell_type": "code",
   "execution_count": 115,
   "id": "00e7ee5b",
   "metadata": {},
   "outputs": [],
   "source": [
    "def process_objects(image_path):\n",
    "    res =  get_objects_and_locations(image_path)\n",
    "    objects = create_nodes(res)\n",
    "    process_sentence_objects(objects)\n",
    "    "
   ]
  },
  {
   "cell_type": "code",
   "execution_count": 118,
   "id": "43e6168a",
   "metadata": {},
   "outputs": [
    {
     "name": "stdout",
     "output_type": "stream",
     "text": [
      "person 1 is near horse 1\n",
      "person 2 is behind person 1\n",
      "horse 2 is near person 2\n",
      "tie 1 is front of horse 2\n"
     ]
    }
   ],
   "source": [
    "process_objects(img_path)"
   ]
  }
 ],
 "metadata": {
  "kernelspec": {
   "display_name": "Python 3 (ipykernel)",
   "language": "python",
   "name": "python3"
  },
  "language_info": {
   "codemirror_mode": {
    "name": "ipython",
    "version": 3
   },
   "file_extension": ".py",
   "mimetype": "text/x-python",
   "name": "python",
   "nbconvert_exporter": "python",
   "pygments_lexer": "ipython3",
   "version": "3.7.13"
  }
 },
 "nbformat": 4,
 "nbformat_minor": 5
}
