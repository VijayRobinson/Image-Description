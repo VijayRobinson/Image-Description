{
 "cells": [
  {
   "cell_type": "code",
   "execution_count": 26,
   "id": "f28034e4",
   "metadata": {},
   "outputs": [],
   "source": [
    "# Dataset - https://github.com/codebrainz/color-names/blob/master/output/colors.csv\n",
    "\n",
    "import cv2\n",
    "import pandas as pd\n",
    "\n",
    "img_path = r'C:\\Users\\Fahi\\Desktop\\Color-Detection-OpenCV-main\\Color-Detection-OpenCV-main\\IMG20211020164134.jpg'\n",
    "img = cv2.imread(img_path)\n",
    "\n",
    "# declaring global variables (are used later on)\n",
    "clicked = False\n",
    "r = g = b = x_pos = y_pos = 0\n",
    "\n",
    "# Reading csv file with pandas and giving names to each column\n",
    "index = [\"color\", \"color_name\", \"hex\", \"R\", \"G\", \"B\"]\n",
    "csv = pd.read_csv('colors.csv', names=index, header=None)\n",
    "\n",
    "\n",
    "# function to calculate minimum distance from all colors and get the most matching color\n",
    "def get_color_name(R, G, B):\n",
    "    minimum = 10000\n",
    "    for i in range(len(csv)):\n",
    "        d = abs(R - int(csv.loc[i, \"R\"])) + abs(G - int(csv.loc[i, \"G\"])) + abs(B - int(csv.loc[i, \"B\"]))\n",
    "        if d <= minimum:\n",
    "            minimum = d\n",
    "            cname = csv.loc[i, \"color_name\"]\n",
    "    return cname\n"
   ]
  },
  {
   "cell_type": "code",
   "execution_count": 19,
   "id": "61931951",
   "metadata": {},
   "outputs": [],
   "source": [
    "from collections import Counter\n",
    "from sklearn.cluster import KMeans\n",
    "from matplotlib import colors\n",
    "import matplotlib.pyplot as plt\n",
    "import numpy as np\n",
    "import cv2\n",
    "from PIL import ImageColor"
   ]
  },
  {
   "cell_type": "code",
   "execution_count": 15,
   "id": "3d305b1e",
   "metadata": {},
   "outputs": [],
   "source": [
    "def rgb_to_hex(rgb_color):\n",
    "    hex_color= \"#\"\n",
    "    for i in rgb_color:\n",
    "        i=int(i)\n",
    "        hex_color +=(\"{:02x}\".format(i))\n",
    "    return hex_color"
   ]
  },
  {
   "cell_type": "code",
   "execution_count": 4,
   "id": "e2d3fb42",
   "metadata": {},
   "outputs": [],
   "source": [
    "img_name='colorpic.jpg'\n",
    "raw_img=cv2.imread(img_name)\n",
    "raw_img=cv2.cvtColor(raw_img,cv2.COLOR_BGR2RGB)"
   ]
  },
  {
   "cell_type": "code",
   "execution_count": 6,
   "id": "e0c95f58",
   "metadata": {},
   "outputs": [
    {
     "data": {
      "text/plain": [
       "(600, 900, 3)"
      ]
     },
     "execution_count": 6,
     "metadata": {},
     "output_type": "execute_result"
    }
   ],
   "source": [
    "img=cv2.resize(raw_img,(900,600),interpolation=cv2.INTER_AREA)\n",
    "img.shape"
   ]
  },
  {
   "cell_type": "code",
   "execution_count": 8,
   "id": "569ac73d",
   "metadata": {},
   "outputs": [
    {
     "data": {
      "text/plain": [
       "(540000, 3)"
      ]
     },
     "execution_count": 8,
     "metadata": {},
     "output_type": "execute_result"
    }
   ],
   "source": [
    "img=img.reshape(img.shape[0]*img.shape[1],3)\n",
    "img.shape"
   ]
  },
  {
   "cell_type": "code",
   "execution_count": 12,
   "id": "c586fc8c",
   "metadata": {},
   "outputs": [],
   "source": [
    "clf=KMeans(n_clusters=5)\n",
    "color_lables=clf.fit_predict(img)\n",
    "center_colors=clf.cluster_centers_"
   ]
  },
  {
   "cell_type": "code",
   "execution_count": 13,
   "id": "7fae0e29",
   "metadata": {},
   "outputs": [
    {
     "data": {
      "text/plain": [
       "Counter({1: 125576, 2: 76374, 4: 122774, 0: 94896, 3: 120380})"
      ]
     },
     "execution_count": 13,
     "metadata": {},
     "output_type": "execute_result"
    }
   ],
   "source": [
    "counts=Counter(color_lables)\n",
    "counts"
   ]
  },
  {
   "cell_type": "code",
   "execution_count": 35,
   "id": "c690ce6e",
   "metadata": {},
   "outputs": [
    {
     "name": "stdout",
     "output_type": "stream",
     "text": [
      "#bf4c25\n"
     ]
    }
   ],
   "source": [
    "ordered_colors=[center_colors[i] for i in counts.keys()]\n",
    "hex_colors=[rgb_to_hex(ordered_colors[i]) for i in counts.keys()]\n",
    "most_dominant_color=hex_colors[0]                       \n",
    "print(most_dominant_color)"
   ]
  },
  {
   "cell_type": "code",
   "execution_count": 37,
   "id": "d887f89d",
   "metadata": {},
   "outputs": [
    {
     "data": {
      "image/png": "[encoded data removed]",
      "text/plain": [
       "<Figure size 864x576 with 1 Axes>"
      ]
     },
     "metadata": {},
     "output_type": "display_data"
    }
   ],
   "source": [
    "plt.figure(figsize=(12,8))\n",
    "plt.pie(counts.values(),labels=hex_colors,colors=hex_colors)\n",
    "plt.savefig(f'img_name[:4]=analysis.png')"
   ]
  },
  {
   "cell_type": "code",
   "execution_count": 30,
   "id": "45971552",
   "metadata": {},
   "outputs": [
    {
     "name": "stdout",
     "output_type": "stream",
     "text": [
      "Dark Pastel Red\n"
     ]
    }
   ],
   "source": [
    "rgb_code=ImageColor.getcolor(most_dominant_color, \"RGB\")\n",
    "R,G,B=rgb_code[0:]\n",
    "final_color=get_color_name(R,G,B)\n",
    "print(final_color)"
   ]
  }
 ],
 "metadata": {
  "kernelspec": {
   "display_name": "Python 3",
   "language": "python",
   "name": "python3"
  },
  "language_info": {
   "codemirror_mode": {
    "name": "ipython",
    "version": 3
   },
   "file_extension": ".py",
   "mimetype": "text/x-python",
   "name": "python",
   "nbconvert_exporter": "python",
   "pygments_lexer": "ipython3",
   "version": "3.8.8"
  }
 },
 "nbformat": 4,
 "nbformat_minor": 5
}
