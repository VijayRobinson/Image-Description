{
 "cells": [
  {
   "cell_type": "code",
   "execution_count": 5,
   "id": "5d3cbfa6",
   "metadata": {},
   "outputs": [],
   "source": [
    "import os\n",
    "import shutil\n",
    "import pandas as pd"
   ]
  },
  {
   "cell_type": "code",
   "execution_count": 22,
   "id": "39c1def5",
   "metadata": {},
   "outputs": [],
   "source": [
    "for each in files[0:1000]:\n",
    "    o =  os.path.join(\"/home/kabilan/Desktop/caption/dataset/images\",each.replace('\\n',''))\n",
    "    t =  os.path.join(\"/home/kabilan/Desktop/caption/mdataset/images\",each.replace('\\n',''))\n",
    "    shutil.copyfile(o, t)"
   ]
  },
  {
   "cell_type": "code",
   "execution_count": 8,
   "id": "8de3b15f",
   "metadata": {},
   "outputs": [],
   "source": [
    "image_tokens=pd.read_csv(\"/home/kabilan/Desktop/caption/dataset/texts/Flickr8k.lemma.token.txt\",sep=\"\\t\",names=[\"img_id\",\"img_caption\"])\n"
   ]
  },
  {
   "cell_type": "code",
   "execution_count": 12,
   "id": "363680b5",
   "metadata": {},
   "outputs": [],
   "source": [
    "image_tokens[\"img_id\"]=image_tokens[\"img_id\"].map(lambda x: x[:-2])"
   ]
  },
  {
   "cell_type": "code",
   "execution_count": 20,
   "id": "3305fd5d",
   "metadata": {},
   "outputs": [],
   "source": [
    "captions = {}"
   ]
  },
  {
   "cell_type": "code",
   "execution_count": 23,
   "id": "649f325c",
   "metadata": {},
   "outputs": [],
   "source": [
    "for i , v in image_tokens.iterrows():\n",
    "    img_id = v['img_id']\n",
    "    caption = v['img_caption']\n",
    "    if img_id not in captions:\n",
    "        captions[img_id] = []\n",
    "    captions[img_id].append(caption)"
   ]
  },
  {
   "cell_type": "code",
   "execution_count": 31,
   "id": "ffe0026b",
   "metadata": {},
   "outputs": [],
   "source": [
    "with open(\"image_caption_dict.json\", \"w\") as outfile:\n",
    "    json.dump(captions, outfile)"
   ]
  },
  {
   "cell_type": "code",
   "execution_count": 96,
   "id": "dbd4fdfa",
   "metadata": {},
   "outputs": [],
   "source": [
    "path = \"/home/kabilan/Desktop/caption/dataset/texts/Flickr_8k.testImages.txt\"\n",
    "file = open(path,\"r\")\n",
    "files = []\n",
    "files.extend(file.readlines())"
   ]
  },
  {
   "cell_type": "code",
   "execution_count": 97,
   "id": "2a11b8be",
   "metadata": {},
   "outputs": [
    {
     "data": {
      "text/plain": [
       "1000"
      ]
     },
     "execution_count": 97,
     "metadata": {},
     "output_type": "execute_result"
    }
   ],
   "source": [
    "len(files)"
   ]
  },
  {
   "cell_type": "code",
   "execution_count": 98,
   "id": "78377add",
   "metadata": {},
   "outputs": [],
   "source": [
    "train_captions={}\n",
    "for each in files:\n",
    "    f = each.replace('\\n','')\n",
    "    train_captions[f] = captions[f]"
   ]
  },
  {
   "cell_type": "code",
   "execution_count": 99,
   "id": "c4e87338",
   "metadata": {},
   "outputs": [
    {
     "data": {
      "text/plain": [
       "1000"
      ]
     },
     "execution_count": 99,
     "metadata": {},
     "output_type": "execute_result"
    }
   ],
   "source": [
    "len(train_captions.keys())"
   ]
  },
  {
   "cell_type": "code",
   "execution_count": 100,
   "id": "3bb26d24",
   "metadata": {},
   "outputs": [],
   "source": [
    "with open(\"image_caption_test_dict.json\", \"w\") as outfile:\n",
    "    json.dump(train_captions, outfile)"
   ]
  }
 ],
 "metadata": {
  "kernelspec": {
   "display_name": "Python 3 (ipykernel)",
   "language": "python",
   "name": "python3"
  },
  "language_info": {
   "codemirror_mode": {
    "name": "ipython",
    "version": 3
   },
   "file_extension": ".py",
   "mimetype": "text/x-python",
   "name": "python",
   "nbconvert_exporter": "python",
   "pygments_lexer": "ipython3",
   "version": "3.7.13"
  }
 },
 "nbformat": 4,
 "nbformat_minor": 5
}
